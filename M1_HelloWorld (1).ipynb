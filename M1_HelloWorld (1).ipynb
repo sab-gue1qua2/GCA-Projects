{
 "cells": [
  {
   "cell_type": "markdown",
   "id": "0c76755a-3c94-4e17-bbf1-ad139be767fc",
   "metadata": {
    "id": "0c76755a-3c94-4e17-bbf1-ad139be767fc"
   },
   "source": [
    "# Hello, World!\n",
    "![](https://media.giphy.com/media/Qw4X3Fw75Tpt7bgNZQs/giphy.gif)"
   ]
  },
  {
   "cell_type": "markdown",
   "id": "UWfxmAeyBdJs",
   "metadata": {
    "id": "UWfxmAeyBdJs"
   },
   "source": [
    "## Task 1 - Hello, World!\n",
    "\n",
    "So you've heard that using Python to get your computer to print \"Hello, World!\" to your screen is your official initiation to the club of coders. Let's make sure you're in. \n",
    "\n",
    "Store the phrase \"Hello, World!\" in the variable named `greeting` and use the `print()` function to print `greeting` to your screen.\n"
   ]
  },
  {
   "cell_type": "markdown",
   "id": "Zl-B7REkA9SV",
   "metadata": {
    "id": "Zl-B7REkA9SV"
   },
   "source": [
    "<span style='background :#FFF59E'><b>Hint:</b> You'll need to use `'` or `\"` to denote the string variable type!</span> "
   ]
  },
  {
   "cell_type": "code",
   "execution_count": 1,
   "id": "a120ed1c-3b42-417c-bff7-72f3e66d94a7",
   "metadata": {
    "id": "a120ed1c-3b42-417c-bff7-72f3e66d94a7"
   },
   "outputs": [
    {
     "name": "stdout",
     "output_type": "stream",
     "text": [
      "Hello, World!\n"
     ]
    }
   ],
   "source": [
    "# Store the phrase \"Hello, World!\" in a variable named greeting below.\n",
    "# then print greeting\n",
    "greeting = \"Hello, World!\"\n",
    "print(greeting)\n"
   ]
  },
  {
   "cell_type": "markdown",
   "id": "EZw4nOA7CCPO",
   "metadata": {
    "id": "EZw4nOA7CCPO"
   },
   "source": [
    "## Task 2 - What's your name, where 'ya from?\n",
    "\n",
    "Next, store your name in the variable called `name`, and your home town in the variable called `town_name`. \n",
    "\n",
    "\n",
    "Both `name` and `town_name` are part of the f-string stored in the variable called `sentence_1` in the following cell. Run the cell to print `sentence_1` to your screen!"
   ]
  },
  {
   "cell_type": "code",
   "execution_count": 3,
   "id": "9e8b6fba-2f3b-49e0-9f7d-841b62726436",
   "metadata": {
    "id": "9e8b6fba-2f3b-49e0-9f7d-841b62726436"
   },
   "outputs": [
    {
     "name": "stdout",
     "output_type": "stream",
     "text": [
      "My name is Sabrina and I was born in a small town called Anaco, where my parents quickly realized I was destined for greatness.\n"
     ]
    }
   ],
   "source": [
    "# Store your name and home town in the variables below.\n",
    "name = \"Sabrina\"\n",
    "town_name = \"Anaco\"\n",
    "\n",
    "# do not modify the code below\n",
    "sentence_1 = f'My name is {name} and I was born in a small town called {town_name}, where my parents quickly realized I was destined for greatness.' \n",
    "print(sentence_1)"
   ]
  },
  {
   "cell_type": "markdown",
   "id": "-eaCeuneCwdF",
   "metadata": {
    "id": "-eaCeuneCwdF"
   },
   "source": [
    "## Task 3 - So close!\n",
    "\n",
    "We all make mistakes. Some of us make mistakes all the time! That's why one of the skills we're going to practice is spotting mistakes -- or *errors* -- in our code and fixing them. Coders like to call this \"debugging\" 🪲\n",
    "\n",
    "See if you can spot the error in the sentence below and debug it! Once fix the error, run the cell. You'll know the cell is bug-free when `sentence_2` prints to your screen."
   ]
  },
  {
   "cell_type": "code",
   "execution_count": 4,
   "id": "bfb78652-01c9-4561-b897-64f1046e7e79",
   "metadata": {
    "id": "bfb78652-01c9-4561-b897-64f1046e7e79"
   },
   "outputs": [
    {
     "name": "stdout",
     "output_type": "stream",
     "text": [
      "But, greatness turned out to be a little harder to achieve than they'd thought, so I settled for being mildly amusing instead.\n"
     ]
    }
   ],
   "source": [
    "# Spot the error!\n",
    "# If you're not sure run the cell to see the error message\n",
    "sentence_2 = 'But, greatness turned out to be a little harder to achieve than they\\'d thought, so I settled for being mildly amusing instead.'\n",
    "print(sentence_2)"
   ]
  },
  {
   "cell_type": "markdown",
   "id": "1xDDv7CBHGCm",
   "metadata": {
    "id": "1xDDv7CBHGCm"
   },
   "source": [
    "## Task 4 - Dream Jobs!\n",
    "\n",
    "In the variables defined below, write 3 \"dream jobs\" that maybe you wanted to have when you were a kid (or even maybe even want now, as an adult!) \n",
    "\n",
    "For example, young Dr. Alvarez's dream jobs were:\n",
    "\n",
    "```python\n",
    "job_1 = 'astronaut'\n",
    "job_2 = 'marine biologist'\n",
    "job_3 = 'rockstar'\n",
    "```"
   ]
  },
  {
   "cell_type": "code",
   "execution_count": 5,
   "id": "ae16b156-1b05-4fc8-a95f-965edf8f75bf",
   "metadata": {
    "id": "ae16b156-1b05-4fc8-a95f-965edf8f75bf"
   },
   "outputs": [
    {
     "name": "stdout",
     "output_type": "stream",
     "text": [
      "Despite my best efforts, I never quite managed to become a firefighter, doctor, or vet.\n"
     ]
    }
   ],
   "source": [
    "# write your 3 dream jobs below\n",
    "job_1 = 'firefighter'\n",
    "job_2 = 'doctor'\n",
    "job_3 = 'vet'\n",
    "\n",
    "\n",
    "# do not modify the code below\n",
    "sentence_3 = f'Despite my best efforts, I never quite managed to become a {job_1}, {job_2}, or {job_3}.' \n",
    "print(sentence_3)"
   ]
  },
  {
   "cell_type": "markdown",
   "id": "KN0VOA5vIxo_",
   "metadata": {
    "id": "KN0VOA5vIxo_"
   },
   "source": [
    "## Task 5 - Favorite Hobby!\n",
    "\n",
    "Next, store your favorite hobby in the variable called `hobby` and use a f-string, like the ones above, to store the following sentence about your hobby in the variable named `sentence_4`:\n",
    "\n",
    "\n",
    "> \"But I did become really good at ________________! And that\\'s good enough for me.\"\n",
    "\n",
    "Use the `print()` function to print `sentence_4` to your screen."
   ]
  },
  {
   "cell_type": "code",
   "execution_count": 7,
   "id": "68323ebf-afc7-418f-aa91-c8decb7a0f15",
   "metadata": {
    "id": "68323ebf-afc7-418f-aa91-c8decb7a0f15"
   },
   "outputs": [
    {
     "name": "stdout",
     "output_type": "stream",
     "text": [
      "But I did become really good at bracelet making! And that's good enough for me.\n"
     ]
    }
   ],
   "source": [
    "# Write down your favorite hobby below\n",
    "hobby = 'bracelet making'\n",
    "\n",
    "# Store the sentence written above in the variable named sentence_4\n",
    "# then print sentence_4\n",
    "sentence_4 = f'But I did become really good at {hobby}! And that\\'s good enough for me.'\n",
    "print(sentence_4)"
   ]
  },
  {
   "cell_type": "markdown",
   "id": "5oVZeOzNJJgA",
   "metadata": {
    "id": "5oVZeOzNJJgA"
   },
   "source": [
    "## Task 6 - Put it all together now!\n",
    "\n",
    "From each Task above, you have defined several variables. They are:\n",
    "\n",
    "- `greeting`\n",
    "- `sentence_1`\n",
    "- `sentence_2`\n",
    "- `sentence_3`\n",
    "- `sentence_4`\n",
    "\n",
    "\n",
    "Use your Python skills to `print` all of them in one single message. There are indeed a few different ways to do this (string concatenation, f-strings, etc). In whichever way you choose, make sure there is a proper space between the greeting and each sentence.  "
   ]
  },
  {
   "cell_type": "code",
   "execution_count": 9,
   "id": "32dfd395-48be-4cc8-b8bc-2dad086d2ed8",
   "metadata": {
    "id": "32dfd395-48be-4cc8-b8bc-2dad086d2ed8"
   },
   "outputs": [
    {
     "name": "stdout",
     "output_type": "stream",
     "text": [
      "Hello, World! My name is Sabrina and I was born in a small town called Anaco, where my parents quickly realized I was destined for greatness. But, greatness turned out to be a little harder to achieve than they'd thought, so I settled for being mildly amusing instead. Despite my best efforts, I never quite managed to become a firefighter, doctor, or vet. But I did become really good at bracelet making! And that's good enough for me.\n"
     ]
    }
   ],
   "source": [
    "# show all{ of the messages above using one single print statement\n",
    "single_message = f\"{greeting} {sentence_1} {sentence_2} {sentence_3} {sentence_4}\"\n",
    "print(single_message)"
   ]
  },
  {
   "cell_type": "markdown",
   "id": "CljtBbcjNAB1",
   "metadata": {
    "id": "CljtBbcjNAB1"
   },
   "source": [
    "## Congratulations!!\n",
    "\n",
    "![](https://media.giphy.com/media/26gsfdArwyEnXnDGw/giphy.gif)\n",
    "\n",
    "You did it!"
   ]
  },
  {
   "cell_type": "markdown",
   "id": "Ysm4xYt4-Hoh",
   "metadata": {
    "id": "Ysm4xYt4-Hoh"
   },
   "source": [
    "## LevelUp!\n",
    "Are you ready to take your skills to the next level?! The \"\\n\" is a special character in coding that represents a new line or line break. It is often used in strings to create line breaks between text, so that the output appears on separate lines.\n",
    "\n",
    "Take a look at the following Hello World example (what else!?):\n",
    "```python\n",
    "print('Hello\\nWorld')\n",
    "```\n",
    "The output of this could would be:\n",
    "\n",
    "```\n",
    "Hello\n",
    "World\n",
    "```\n",
    "See if you can print each sentence to a new line with the \"\\n\" character!\n"
   ]
  },
  {
   "cell_type": "code",
   "execution_count": 11,
   "id": "IPrXjf_X-9y7",
   "metadata": {
    "id": "IPrXjf_X-9y7"
   },
   "outputs": [
    {
     "ename": "SyntaxError",
     "evalue": "unexpected character after line continuation character (2679820966.py, line 1)",
     "output_type": "error",
     "traceback": [
      "\u001b[0;36m  Cell \u001b[0;32mIn [11], line 1\u001b[0;36m\u001b[0m\n\u001b[0;31m    print(greeting\\nsentence_1\\nsentence_2\\nsentence_3\\nsentence_4)\u001b[0m\n\u001b[0m                   ^\u001b[0m\n\u001b[0;31mSyntaxError\u001b[0m\u001b[0;31m:\u001b[0m unexpected character after line continuation character\n"
     ]
    }
   ],
   "source": [
    "print('Hello, World!\\nMy name is Sabrina and I was born in a small town called Anaco, where my parents quickly realized I was destined for greatness.\\n\\n\\n')"
   ]
  },
  {
   "cell_type": "code",
   "execution_count": null,
   "id": "0d2c66d0-f9b0-4bf6-99b0-38c9e913d336",
   "metadata": {},
   "outputs": [],
   "source": []
  }
 ],
 "metadata": {
  "colab": {
   "provenance": []
  },
  "kernelspec": {
   "display_name": "Python 3 (ipykernel)",
   "language": "python",
   "name": "python3"
  },
  "language_info": {
   "codemirror_mode": {
    "name": "ipython",
    "version": 3
   },
   "file_extension": ".py",
   "mimetype": "text/x-python",
   "name": "python",
   "nbconvert_exporter": "python",
   "pygments_lexer": "ipython3",
   "version": "3.10.6"
  }
 },
 "nbformat": 4,
 "nbformat_minor": 5
}
