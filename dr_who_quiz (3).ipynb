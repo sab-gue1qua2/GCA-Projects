{
 "cells": [
  {
   "cell_type": "markdown",
   "metadata": {
    "id": "2EJ62HHZsadz"
   },
   "source": [
    "<img src='images/DR_WHO.png' width=675, height=540>"
   ]
  },
  {
   "cell_type": "markdown",
   "metadata": {
    "id": "0c_lTUGOsad3"
   },
   "source": [
    "In this Mid-Experience Project, you will create a personality quiz  to determine whether a user is more similar to Dr. Crider or to Dr. Alvarez.\n",
    "\n",
    "First, take a look at what the game would look like. Look at the screenshot! You can see that there are **five** questions, each with **two possible** answers. For example, the first question is about pizza toppings, and it has olives and pineapple as its answers. The user must choose one of the two.\n",
    "\n",
    "At the end of the five questions, the answers are tallied, and the computer announces who the user is more similar to: Dr. Crider or Dr. Alvarez.\n"
   ]
  },
  {
   "cell_type": "markdown",
   "metadata": {
    "id": "80uhwruDsad3"
   },
   "source": [
    "<img src='images/dr_who_helper_image.png' width=600, height=400>\n",
    "\n",
    "You'll see that the quiz is written as a function called `dr_who_quiz`. This function takes in two arguments: one called `question_bank` and the other called `answer_bank`.\n",
    "\n",
    "<span style='background :#FFF59E'>These are given to you, and you do not need to modify them. But you do need to understand how they work! Run the following cell to load the question and answer banks into your Notebook. </span>"
   ]
  },
  {
   "cell_type": "code",
   "execution_count": 1,
   "metadata": {
    "id": "9efEvfNLsad4"
   },
   "outputs": [],
   "source": [
    "# load data\n",
    "import sys\n",
    "sys.path.append('./files')\n",
    "\n",
    "from dr_who_setup import question_bank, answer_bank"
   ]
  },
  {
   "cell_type": "markdown",
   "metadata": {
    "id": "YQUVI91hsad5"
   },
   "source": [
    "Now let's see how these dictionaries structured, starting with `question_bank`.\n",
    "- The *keys* in the `question_bank` dictionary are the questions\n",
    "- and the *values* in the `question_bank` dictionary are the two possible answers.\n",
    "\n",
    "Let's display the `question_bank` dictionary so we can inspect it 🔍\n",
    "\n",
    "<span style='background :#FFF59E'>**Note**: the `display` function just gives us a prettier output here! You won't be expected to know this function.</span>"
   ]
  },
  {
   "cell_type": "code",
   "execution_count": 2,
   "metadata": {
    "id": "zDLO7SLHsad5"
   },
   "outputs": [
    {
     "data": {
      "text/plain": [
       "{'Which is better on a pizza?': ['OLIVES', 'PINEAPPLE'],\n",
       " 'Where would you rather be?': ['MOUNTAIN', 'BEACH'],\n",
       " 'Night Owl or Morning Lark?': ['NIGHT', 'MORNING'],\n",
       " 'Best way to eat an ice cream?': ['CONE', 'CUP'],\n",
       " 'What do you prefer to wear?': ['SWEATPANTS', 'JEANS']}"
      ]
     },
     "metadata": {},
     "output_type": "display_data"
    }
   ],
   "source": [
    "# Question bank for Dr. Who Personality Quiz\n",
    "# Run this cell!\n",
    "display(question_bank)"
   ]
  },
  {
   "cell_type": "markdown",
   "metadata": {
    "id": "Pfq9ZkpOsad6"
   },
   "source": [
    "Great! So each question asked to the user in the Dr. Who game draws upon a key-value pair in the `question_bank` dictionary.\n",
    "\n",
    "Let's now look at the `answers_bank` dictionary.\n",
    "- The *keys* in the `answer_bank` dictionary are 'Dr. Alvarez' and 'Dr. Crider'\n",
    "- and the *values* in the `answer_bank` dictionary are their answers to the questions, stored as a list!\n",
    "\n",
    "Let's display the `answer_bank` dictionary so we can inspect it 🔍"
   ]
  },
  {
   "cell_type": "code",
   "execution_count": 3,
   "metadata": {
    "id": "UYzEKl_Psad6"
   },
   "outputs": [
    {
     "data": {
      "text/plain": [
       "{'Dr. Alvarez': ['PINEAPPLE', 'BEACH', 'NIGHT', 'CONE', 'JEANS'],\n",
       " 'Dr. Crider': ['OLIVES', 'MOUNTAIN', 'MORNING', 'CUP', 'SWEATPANTS']}"
      ]
     },
     "metadata": {},
     "output_type": "display_data"
    }
   ],
   "source": [
    "# Answer bank for Dr. Who Personality Quiz\n",
    "# Run this cell!\n",
    "display(answer_bank)"
   ]
  },
  {
   "cell_type": "markdown",
   "metadata": {
    "id": "UV5Wn_XLsad7"
   },
   "source": [
    "So Dr. Alvarez's answers to each of the five questions are 'PINEAPPLE', 'BEACH', 'NIGHT', 'CONE', and 'JEANS'.\n",
    "\n",
    "Notice that in both `question_bank` and `answer_bank`, all the options are in **capital letters**.\n",
    "\n",
    "Great. Now that we understand *how* the Dr. Who? Quiz is going to work in Python, let's get to coding it!\n",
    "\n",
    "![](https://media.giphy.com/media/iopxsZtW2QVRs4poEC/giphy.gif)\n",
    "\n",
    "---"
   ]
  },
  {
   "cell_type": "markdown",
   "metadata": {
    "id": "9IpE1pQ7sad7"
   },
   "source": [
    "### Part I: The`get_user_response` Function\n",
    "\n",
    "Yep, the `dr_who_quiz` function is the main function of the quiz. But this function will use a second function, called `get_user_response` to get the user's response to a question and validate it!\n",
    "\n",
    "Your first task is to complete this function by writing a `while` loop!\n",
    "\n",
    "1. Use the `input()` function to prompt the user to input one of two possible choices. Make sure you use the `answer_choices` parameter.\n",
    "2. After the user enters a response, change the response to be all uppercase.\n",
    "3. Then check if the response is valid:\n",
    "  - If the response is one of the two choices that are presented, `return` that response.\n",
    "  - Otherwise, prompt the user for a valid input.\n",
    "\n",
    "Remember: the `answer_choices` parameter will be a list: `answer_choices = [CHOICE_1, CHOICE_2]`\n",
    "\n",
    "<span style='background :#FFF59E'>**HINT**: the `needs_response` flag will need to be updated in order for the loop to stop looping!</span>"
   ]
  },
  {
   "cell_type": "code",
   "execution_count": 4,
   "metadata": {
    "id": "PWdYdBxssad8"
   },
   "outputs": [],
   "source": [
    "# Complete the function below.\n",
    "# See the section that follows for more information/hints\n",
    "\n",
    "def get_user_response(answer_choices):\n",
    "    '''\n",
    "    This function prompts a user to type in an answer from a set of choices.\n",
    "    If none of the answer choices are repeated, a message is shown to the user\n",
    "    and they are asked to provide another response. This will continue until the user\n",
    "    correctly types in a response.\n",
    "\n",
    "    After the user has correctly typed a response, the function will return\n",
    "    that response.\n",
    "\n",
    "    Hint: The code will be more efficient if you use the .upper() method on the user response\n",
    "    to not make the user type in all caps.\n",
    "    '''\n",
    "\n",
    "    # ---------------- Starter code -------------------#\n",
    "    # declares the flag needed for the while loop\n",
    "    needs_response = True\n",
    "\n",
    "    # ---------------- Your code below -------------------#\n",
    "    # write a while loop for the user input that continues as long as `needs_response` is True\n",
    "    while needs_response == True:\n",
    "        # get response from user and change to uppercase\n",
    "        userResponse = input(f'Choose your fav: {answer_choices[0]} or {answer_choices[1]}?') \n",
    "        upper_response = userResponse.upper()\n",
    "\n",
    "\n",
    "        # check if response matches one of the answer choices\n",
    "\n",
    "            # if so, update the flag\n",
    "        if upper_response in answer_choices:\n",
    "            needs_response = False\n",
    "\n",
    "\n",
    "        # if not, display a message to the user to try again\n",
    "        else:\n",
    "            print(f'Please enter one of the answer choices available: {answer_choices[0]} or {answer_choices[1]}?')\n",
    "\n",
    "    # return the response from the user (should already be in uppercase)\n",
    "    return upper_response\n"
   ]
  },
  {
   "cell_type": "markdown",
   "metadata": {
    "id": "SMdQ_3nzsad8",
    "jp-MarkdownHeadingCollapsed": true,
    "tags": []
   },
   "source": [
    "#### Test your function!\n",
    "\n",
    "Test your `get_user_response` function.\n",
    "\n",
    "<span style='background :#DDD5F3'>If done correctly, the output of the following cell should be either 'CARROT CAKE'\n",
    "or 'GERMAN CHOCOLATE CAKE', depending on what you type. If you type 'cheesecake', you should have to try again.</span>"
   ]
  },
  {
   "cell_type": "code",
   "execution_count": 7,
   "metadata": {
    "id": "kfNPZIFisad9"
   },
   "outputs": [
    {
     "name": "stdin",
     "output_type": "stream",
     "text": [
      "Choose your fav: CARROT CAKE or GERMAN CHOCOLATE CAKE? carrot cake\n"
     ]
    },
    {
     "data": {
      "text/plain": [
       "'CARROT CAKE'"
      ]
     },
     "execution_count": 7,
     "metadata": {},
     "output_type": "execute_result"
    }
   ],
   "source": [
    "# Test your function!\n",
    "get_user_response(['CARROT CAKE', 'GERMAN CHOCOLATE CAKE'])"
   ]
  },
  {
   "cell_type": "markdown",
   "metadata": {
    "id": "E_RJTAPxsad9"
   },
   "source": [
    "### Part II: The `dr_who_quiz` Function\n",
    "\n",
    "Now you're ready to code the Dr. Who? Quiz!! Starter code for the `dr_who_quiz` function has been provided. You will need to complete the rest of it. This function will play the entire game and tell its users whether they are more similar to Dr. Alvarez or to Dr. Crider.\n",
    "\n",
    "1. Use a `for` loop to iterate through the questions in the `question_bank` dictionary. In each iteration ...\n",
    "    - Increment the `q_number` variable, counting each question\n",
    "    - Using an f-string, print the question number and question to the screen. The user should see, e.g., 'Question 1 of 5: Which is better on a pizza?'\n",
    "    - Using the question as the key, grab the answer choices from the `question_bank` dictionary. Store this in a variable named `answer_choices`.\n",
    "    - Call your `get_user_reponses` function to display the answer choices, get user input, and validate user input. Store the validated response in variable named `response`.\n",
    "    - Tally the score: if the response is found in Dr. Alvarez's answers, increment `DrA_score` by 1. Otherwise, increment `DrC_score` by 1.\n",
    "    \n",
    "2. Outside of the `for` loop, compare `DrA_score` against `DrC_score`.\n",
    "    - If `DrA_score` is larger than `DrC_score`, assign 'Dr. Alvarez' to a variable called `match`\n",
    "    - Otherwise, assign 'Dr. Crider' to the variable called `match`.\n",
    "    \n",
    "3. Use an f-string and the `match` variable to print the result of the quiz! The user should see, e.g., `Congrats! You are most similar to Dr. Crider!`\n",
    "\n",
    "\n",
    "Be sure to play a few rounds of the game to spot any errors! You got this."
   ]
  },
  {
   "cell_type": "markdown",
   "metadata": {
    "id": "V6w1yKsxsad9"
   },
   "source": [
    "#### Unable to do Part I?\n",
    "\n",
    "That's okay! Reach out to the HelpHub or attend Drop-In Hours to understand how to write the function.\n",
    "In the next cell, you will be provided with a working `get_user_response_solution` function so that you can complete the `dr_who_quiz`!"
   ]
  },
  {
   "cell_type": "code",
   "execution_count": 8,
   "metadata": {
    "id": "gdS-bqv0sad-"
   },
   "outputs": [],
   "source": [
    "# If you weren't able to complete Part I\n",
    "# run this code to get the get_user_response_solution\n",
    "# Note: You will have to use the full function name, `get_user_response_solution`\n",
    "# in your code to not accidentally use the incorrect `get_user_response` function.\n",
    "\n",
    "from dr_who_setup import get_user_response_solution "
   ]
  },
  {
   "cell_type": "code",
   "execution_count": 9,
   "metadata": {
    "id": "pfyMg9_Msad-"
   },
   "outputs": [],
   "source": [
    "# Complete the function below\n",
    "def dr_who_quiz(question_bank, answer_bank):\n",
    "    '''\n",
    "    This function is the main body of the quiz.\n",
    "\n",
    "    It uses the `question_bank` and `answer_bank` to pose two options to the user per question.\n",
    "\n",
    "    As it iterats through the questions, it validates the user's response to each question by\n",
    "    comparing it with the two given options. (Hint: call the `get_user_response` function)\n",
    "\n",
    "    The function then determines whethether to increment Dr. Alvarez's score or Dr. Crider's score by comparing\n",
    "    the user input against each person's preferences in the `answer_bank`.\n",
    "\n",
    "    At the end of the quiz, based on the higher score, informs the user whether they are more similar\n",
    "    to Dr. Alvarez or Dr. Crider.\n",
    "\n",
    "    '''\n",
    "    # ---------------- Starter code -------------------#\n",
    "    # Initializing each score to 0\n",
    "    DrA_score = 0\n",
    "    DrC_score = 0\n",
    "\n",
    "    # quiz markers helper functions (no need to modify these)\n",
    "    q_number = 0 # question number to increment\n",
    "    n_questions = len(question_bank) # total number of questions\n",
    "\n",
    "\n",
    "    # ---------------- Your code below -------------------#\n",
    "    # conduct the quiz\n",
    "    # iterate through each question in `question_bank`\n",
    "    for question in question_bank:\n",
    "        # increment question number\n",
    "        q_number+=1\n",
    "\n",
    "\n",
    "        # show question to user\n",
    "        input(f'Question {q_number} of 5: {question}')\n",
    "        # e.g. user should see\n",
    "        #`Question 1 of 5: Which is better on a pizza?\n",
    "\n",
    "\n",
    "        # grab answer_choices from question_bank dictionary\n",
    "        # hint: use the `key` to get the `value`\n",
    "        answer_choices = question_bank[question]\n",
    "\n",
    "\n",
    "        # get response from user (hint: use the function from above!)\n",
    "        gur = get_user_response(answer_choices) \n",
    "\n",
    "\n",
    "\n",
    "        # check if response matches Dr. A's responses\n",
    "        # look at how `answer_bank` is defined above to get the right key\n",
    "        # if in Dr. A's list of things increment `DrA_score`\n",
    "        if gur in answer_bank['Dr. Alvarez']:\n",
    "            DrA_score += 1 \n",
    "        \n",
    "\n",
    "\n",
    "        # if not, increment `DrC_score`\n",
    "        else:\n",
    "            DrC_score += 1  \n",
    "\n",
    "\n",
    "    # after the for loop, assign 'Dr. Alvarez' to `match` if DrA_score is higher\n",
    "    # otherwise assign 'Dr. Crider'.\n",
    "    if DrA_score > DrC_score:\n",
    "              match = \"Dr. Alvarez\"\n",
    "    else:\n",
    "              match = \"Dr. Cider\"\n",
    "              \n",
    "              \n",
    "\n",
    "\n",
    "    # output the `match` to the user\n",
    "    print(f'Congrats! You are most similar to {match}!')\n",
    "\n"
   ]
  },
  {
   "cell_type": "markdown",
   "metadata": {
    "id": "L8bP7o4esad-"
   },
   "source": [
    "### Play the Game!\n",
    "\n",
    "Run the cell below to play the game! If you get an error before the game is finished (or get stuck in an infinite loop) that's okay! look at the code above and make sure you have thought about all the ways the code interacts to achieve the desired result.\n",
    "\n"
   ]
  },
  {
   "cell_type": "code",
   "execution_count": null,
   "metadata": {
    "id": "eXTEa_y3sad_"
   },
   "outputs": [
    {
     "name": "stdin",
     "output_type": "stream",
     "text": [
      "Question 1 of 5: Which is better on a pizza? pizza\n",
      "Choose your fav: OLIVES or PINEAPPLE? olives\n",
      "Question 2 of 5: Where would you rather be? beach\n",
      "Choose your fav: MOUNTAIN or BEACH? beach\n"
     ]
    }
   ],
   "source": [
    "# play the game!\n",
    "dr_who_quiz(question_bank, answer_bank)"
   ]
  },
  {
   "cell_type": "markdown",
   "metadata": {
    "id": "8qVWO9Smsad_"
   },
   "source": [
    "# Congratulations!!!\n",
    "\n",
    "![](https://media.giphy.com/media/fdyZ3qI0GVZC0/giphy.gif)"
   ]
  },
  {
   "cell_type": "markdown",
   "metadata": {
    "id": "yOenl-Rdsad_"
   },
   "source": [
    "## LevelUp\n",
    "\n",
    "Create your very own personality quiz question game that Dr. Alvarez and Dr. Crider can play! Maybe it's \"Are You More Like a Cat or a Dog?\" Or \"Are You More Like Taylor Swift or Billie Eilish?\" The possibilities are endless.\n",
    "\n",
    "Create a *new* `question_bank` and `answer_bank` dictionaries, preserving the same structure. Remember, the keys of the `question_bank` dictionary need to be the questions, and the values need to be possible answers (options). The keys of the `answer_bank` need to be characters or objects (e.g., 'Cat' and 'Dog'), and the values need to be lists of traits that describe their respective characters, e.g. ['NAPS', 'BALLS OF YARN'] for Cat, and ['WALKS', 'TENNIS BALLS'] for Dog.\n",
    "\n",
    "Three things to keep in mind:\n",
    "1. The number of questions should remain odd. Otherwise, you'll have to figure out what to do if there is a tie!\n",
    "2. The values in `answer_bank` need to be **unique** to the key they belong to.\n",
    "3. Format your list of values in `answer_bank` to be uppercase,\n",
    "\n",
    "Start with a personality quiz based on two personalities. When there are three, or four, or five, or more, the scoring becomes more complicated since ties are more likely and the `match` variable will need to be modified.\n",
    "\n",
    "Good luck! Your Global Tech Team can't wait to see what you come up with! 🙂"
   ]
  },
  {
   "cell_type": "code",
   "execution_count": null,
   "metadata": {
    "id": "WIX1wSfzsad_"
   },
   "outputs": [],
   "source": []
  }
 ],
 "metadata": {
  "colab": {
   "provenance": []
  },
  "kernelspec": {
   "display_name": "Python 3 (ipykernel)",
   "language": "python",
   "name": "python3"
  },
  "language_info": {
   "codemirror_mode": {
    "name": "ipython",
    "version": 3
   },
   "file_extension": ".py",
   "mimetype": "text/x-python",
   "name": "python",
   "nbconvert_exporter": "python",
   "pygments_lexer": "ipython3",
   "version": "3.10.6"
  }
 },
 "nbformat": 4,
 "nbformat_minor": 4
}
